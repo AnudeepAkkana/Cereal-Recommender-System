{
  "cells": [
    {
      "cell_type": "markdown",
      "metadata": {
        "id": "9Td6QoyETo1I"
      },
      "source": [
        "In this assignment, we have scraped all the cereals that have at least 20 reviews from this website - [MrBreakfast.com](https://www.mrbreakfast.com/cereal_list.asp)."
      ]
    },
    {
      "cell_type": "markdown",
      "metadata": {
        "id": "FnP-yAP2To1I"
      },
      "source": [
        "### Imports required"
      ]
    },
    {
      "cell_type": "code",
      "execution_count": null,
      "metadata": {
        "id": "CXeAuFllTo1J"
      },
      "outputs": [],
      "source": [
        "import sys\n",
        "sys.path.insert(0,'chromedriver')\n",
        "from selenium import webdriver\n",
        "from selenium.webdriver.common.by import By\n",
        "from pandas import DataFrame, concat, read_csv, Series\n",
        "from time import sleep\n",
        "import warnings\n",
        "import re\n",
        "import matplotlib.pyplot as plt\n",
        "warnings.filterwarnings('ignore')\n",
        "from nltk.tokenize import word_tokenize\n",
        "import spacy\n",
        "import numpy as np\n",
        "from vaderSentiment.vaderSentiment import SentimentIntensityAnalyzer\n",
        "from nltk.corpus import stopwords\n",
        "stop_words = set(stopwords.words('english'))\n",
        "nlp = spacy.load('en_core_web_md')\n",
        "%matplotlib inline"
      ]
    },
    {
      "cell_type": "markdown",
      "metadata": {
        "id": "aA63GN64To1J"
      },
      "source": [
        "### Task A: Extracting reviews from the website"
      ]
    },
    {
      "cell_type": "code",
      "execution_count": null,
      "metadata": {
        "id": "eqQaNfmiTo1K"
      },
      "outputs": [],
      "source": [
        "chrome_options = webdriver.ChromeOptions()\n",
        "chrome_options.add_argument('--no-sandbox')\n",
        "chrome_options.add_argument('--disable-dev-shm-usage')\n",
        "chrome_options.add_argument('--headless')\n",
        "\n",
        "wd = webdriver.Chrome('./chromedriver',options=chrome_options)"
      ]
    },
    {
      "cell_type": "markdown",
      "metadata": {
        "id": "6Da_hUgiTo1K"
      },
      "source": [
        "> Define a function to scrape all cereal data for cereals whose names start with the given input letter (A-Z)"
      ]
    },
    {
      "cell_type": "code",
      "execution_count": null,
      "metadata": {
        "id": "NwN3ngMzTo1L"
      },
      "outputs": [],
      "source": [
        "base_url = 'https://www.mrbreakfast.com/cereal_list.asp?fi='\n",
        "def scrapePageForCerealNames(letter):\n",
        "    cereals = DataFrame({\n",
        "        \"product_id\": [],\n",
        "        \"name\": []\n",
        "    })\n",
        "\n",
        "    wd.get(base_url + letter)\n",
        "    cereal_elements = wd.find_elements(By.XPATH, \"//div[contains(@style, 'float: left; width:250px; margin-left: 10px; margin-right: 14px; height: 122px;')]\")\n",
        "    for ce in cereal_elements:\n",
        "        anchors = ce.find_elements(By.TAG_NAME, 'a')\n",
        "        id = re.findall(\"\\?id=(\\d+)\", anchors[0].get_attribute('href'))[0]\n",
        "        name = anchors[1].get_attribute('innerText')\n",
        "        cereals.loc[len(cereals)] = [id, name]\n",
        "    return cereals, len(cereal_elements)"
      ]
    },
    {
      "cell_type": "markdown",
      "metadata": {
        "id": "Dh2YrOSrTo1L"
      },
      "source": [
        "> * For each letter A-Z, fetch the webpage listing all cereals starting with that letter, and scrape their product `name` and `product_id`\n",
        "> * If there are any errors due to DOS from the website (commented code), rerun the scraping for all the letters in the error list\n",
        "> * Save this list in `all_cereals.csv` file\n",
        "\n",
        "<span style=\"color:maroon\">**Note:** This might take a long time to scrape</span>"
      ]
    },
    {
      "cell_type": "code",
      "execution_count": null,
      "metadata": {
        "id": "zvpgQmJyTo1M"
      },
      "outputs": [],
      "source": [
        "all_cereals = DataFrame({\n",
        "        \"product_id\": [],\n",
        "        \"name\": []\n",
        "})\n",
        "errors = list()\n",
        "\n",
        "for ascii in range(65,91):\n",
        "    letter = chr(ascii)\n",
        "    sleep(0.5)\n",
        "    cereals, n_cereals = scrapePageForCerealNames(letter)\n",
        "    if n_cereals == 0:\n",
        "        errors.append(letter)\n",
        "    else:\n",
        "        all_cereals = concat([all_cereals, cereals], ignore_index=True)\n"
      ]
    },
    {
      "cell_type": "code",
      "execution_count": null,
      "metadata": {
        "id": "n3RBTy2VTo1M"
      },
      "outputs": [],
      "source": [
        "# display(errors)\n",
        "# for letter in errors:\n",
        "#     sleep(0.5)\n",
        "#     cereals, n_cereals = scrapePageForCerealNames(letter)\n",
        "#     if n_cereals == 0:\n",
        "#         errors.append(letter)\n",
        "#     else:\n",
        "#         all_cereals = concat([all_cereals, cereals], ignore_index=True)"
      ]
    },
    {
      "cell_type": "code",
      "execution_count": null,
      "metadata": {
        "id": "WMhj598_To1M"
      },
      "outputs": [],
      "source": [
        "all_cereals.to_csv(\"all_cereals.csv\", index=False)"
      ]
    },
    {
      "cell_type": "markdown",
      "metadata": {
        "id": "nOW-pzmFTo1M"
      },
      "source": [
        "> Define a function to scrape all the comments for a product given product id"
      ]
    },
    {
      "cell_type": "code",
      "execution_count": null,
      "metadata": {
        "id": "88_Ec_5CTo1N"
      },
      "outputs": [],
      "source": [
        "comments_url = 'https://www.mrbreakfast.com/cereal_allreviews.asp?id='\n",
        "def scrapePageForComments(product_id):\n",
        "    comment_df = DataFrame({\n",
        "        \"user\": [],\n",
        "        \"rating\": [],\n",
        "        \"comment\": [],\n",
        "        \"product_id\": []\n",
        "    })\n",
        "\n",
        "    wd.get(comments_url + str(product_id))\n",
        "    comment_section = wd.find_element(By.XPATH, \"//div[contains(@id, 'right-cereal-content')]/span[contains(@class, 'small')]\")\n",
        "    # a = comment_section.find_elements(By.XPATH, \"*\")\n",
        "    comments = comment_section.get_attribute('innerHTML').split(\"By <b>\")\n",
        "    for idx in range(len(comments[1:])):\n",
        "        l = comments[idx+1].split(\"</b>\")\n",
        "        comments[idx+1] = \"<div id='uniq-comment'><b>\" + \\\n",
        "            \"\".join(re.split('<br>Comment submitted: \\d+/\\d+/\\d+ \\(#\\d+\\)(<br>)+', \"</b>\".join(l[1:]))) + \\\n",
        "            \"</div>\"\n",
        "        comment_df.loc[len(comment_df)] = [l[0], None, None, None]\n",
        "    comments = comments[1:]\n",
        "\n",
        "    for idx in range(len(comments)):\n",
        "        wd.get(\"data:text/html;charset=utf-8,{html_content}\".format(html_content=comments[idx]))\n",
        "        comments[idx] = \"\".join(\" \".join(wd.find_element(By.XPATH, \"//div[contains(@id, 'uniq-comment')]\") \\\n",
        "            .get_attribute('innerText').split()).split(\"Rating (out of 5):\")).strip()\n",
        "        rating = len(wd.find_elements(By.XPATH, \"//td[contains(@valign, 'top')]/*\"))//2\n",
        "        comment_df.loc[idx, \"comment\"] = comments[idx]\n",
        "        comment_df.loc[idx, \"rating\"] = rating\n",
        "        comment_df.loc[idx, \"product_id\"] = product_id\n",
        "    return comment_df\n",
        "\n",
        "scrapePageForComments(300)"
      ]
    },
    {
      "cell_type": "markdown",
      "metadata": {
        "id": "mX5eUWS9To1N"
      },
      "source": [
        "> * For each letter product in the `all_cereals.csv`, scrape the comments page and store the comments if #comments is more than 20\n",
        "> * If there are any errors due to DOS from the website (commented code), rerun the scraping for all the products in the error list\n",
        "\n",
        "<span style=\"color:maroon\">**Note:** This might take a long time to scrape</span>"
      ]
    },
    {
      "cell_type": "code",
      "execution_count": null,
      "metadata": {
        "id": "R3Tx7zwLTo1N"
      },
      "outputs": [],
      "source": [
        "comments_df = DataFrame({\n",
        "    \"user\": [],\n",
        "    \"rating\": [],\n",
        "    \"comment\": [],\n",
        "    \"product_id\": []\n",
        "})\n",
        "errors = []\n",
        "\n",
        "for itm in all_cereals.loc[:,\"product_id\"]:\n",
        "    try:\n",
        "        sleep(2)\n",
        "        comment_df = scrapePageForComments(itm)\n",
        "        if len(comment_df) < 20:\n",
        "            # Skip if the product has less than 20 reviews\n",
        "            pass\n",
        "        else:\n",
        "            comments_df = concat([comments_df, comment_df], ignore_index=True)\n",
        "            comments_df.to_csv(\"comments.csv\", index=False)\n",
        "    except:\n",
        "        errors = errors.append(itm)"
      ]
    },
    {
      "cell_type": "code",
      "execution_count": null,
      "metadata": {
        "id": "sqOG8SwWTo1N"
      },
      "outputs": [],
      "source": [
        "# rec_error_list = []\n",
        "# for itm in errors:\n",
        "#     try:\n",
        "#         sleep(2)\n",
        "#         comment_df = scrapePageForComments(itm)\n",
        "#         if len(comment_df) < 20:\n",
        "#             # Skip if the product has less than 20 reviews\n",
        "#             pass\n",
        "#         else:\n",
        "#             comments_df = concat([comments_df, comment_df], ignore_index=True)\n",
        "#             comments_df.to_csv(\"comments.csv\", index=False)\n",
        "#     except:\n",
        "#         rec_error_list = rec_error_list.append(itm)\n",
        "# errors, rec_error_list = rec_error_list, []"
      ]
    },
    {
      "cell_type": "markdown",
      "metadata": {
        "id": "jZfdqlZDTo1N"
      },
      "source": [
        "### Task B: User Attribute Inputs"
      ]
    },
    {
      "cell_type": "markdown",
      "metadata": {
        "id": "2aObRaquTo1N"
      },
      "source": [
        "> Let us see how the number of comments are split among the cereals (# of comments greater than 20)"
      ]
    },
    {
      "cell_type": "code",
      "execution_count": null,
      "metadata": {
        "id": "Lx3VxCczTo1O",
        "outputId": "182dd633-dc88-4a4f-9284-5446d6234396"
      },
      "outputs": [
        {
          "data": {
            "image/png": "[encoded data removed]",
            "text/plain": [
              "<Figure size 432x288 with 1 Axes>"
            ]
          },
          "metadata": {
            "needs_background": "light"
          },
          "output_type": "display_data"
        }
      ],
      "source": [
        "comments_df = read_csv(\"comments.csv\")\n",
        "comments_df.drop_duplicates()[\"product_id\"] \\\n",
        "    .value_counts().sort_values(ascending=False) \\\n",
        "    .reset_index(drop=True).plot(kind='line')\n",
        "plt.xlabel(\"Product Rank (Based on number of comments)\")\n",
        "plt.ylabel(\"Number of comments\")\n",
        "plt.show()"
      ]
    },
    {
      "cell_type": "markdown",
      "metadata": {
        "id": "vDP2IjD8To1O"
      },
      "source": [
        "> Save frequencies of each word in all the reviews in `word_frequencies.csv`"
      ]
    },
    {
      "cell_type": "code",
      "execution_count": null,
      "metadata": {
        "id": "2PPSLXaXTo1O"
      },
      "outputs": [],
      "source": [
        "tokens = comments_df[\"comment\"].map(lambda s: word_tokenize(str(s).lower()))\n",
        "tokens = tokens.map(lambda list_words: [i for i in list_words if i.isalpha() and i not in stop_words])\n",
        "token_freq = Series(tokens.sum()).value_counts()\n",
        "token_freq.to_csv(\"word_frequencies.csv\")"
      ]
    },
    {
      "cell_type": "code",
      "execution_count": null,
      "metadata": {
        "id": "Kgsgfl22To1O",
        "outputId": "22ed395f-36b4-44eb-fd36-86f53cd586aa"
      },
      "outputs": [
        {
          "data": {
            "text/plain": [
              "'crunchy fruity sweet'"
            ]
          },
          "metadata": {},
          "output_type": "display_data"
        }
      ],
      "source": [
        "ip = input('Enter three features you are looking for in your cereal (space separated)')\n",
        "attributes = nlp(ip)\n",
        "display(ip)"
      ]
    },
    {
      "cell_type": "markdown",
      "metadata": {
        "id": "RIFmgXlUTo1P"
      },
      "source": [
        "### Task C: Cosine similarity"
      ]
    },
    {
      "cell_type": "markdown",
      "metadata": {
        "id": "y-DXb_K4To1P"
      },
      "source": [
        "> Define function to lemmatize all words in captions"
      ]
    },
    {
      "cell_type": "code",
      "execution_count": null,
      "metadata": {
        "id": "ghqU9MIJTo1P"
      },
      "outputs": [],
      "source": [
        "def lemmatization(text):\n",
        "    text = nlp(text)\n",
        "    text_lemma = [word.lemma_ for word in text]\n",
        "    return \" \".join(text_lemma)"
      ]
    },
    {
      "cell_type": "markdown",
      "metadata": {
        "id": "RsmpK_GNTo1P"
      },
      "source": [
        "> Lemmatize comments and store in another variable"
      ]
    },
    {
      "cell_type": "code",
      "execution_count": null,
      "metadata": {
        "id": "eYwWlcWqTo1P"
      },
      "outputs": [],
      "source": [
        "comments_df[\"comment_lemma\"] = comments_df[\"comment\"].map(lambda x: lemmatization(str(x)))\n",
        "comments_df[\"comment\"] = comments_df[\"comment\"].map(str)"
      ]
    },
    {
      "cell_type": "markdown",
      "metadata": {
        "id": "Abht1OSqTo1P"
      },
      "source": [
        "> Define `vectorize` and `cosine_similarity` functions"
      ]
    },
    {
      "cell_type": "code",
      "execution_count": null,
      "metadata": {
        "id": "PuzzrsiSTo1P",
        "outputId": "fbf2f6c8-d622-4ab4-dfe1-54829cc79034"
      },
      "outputs": [
        {
          "data": {
            "text/plain": [
              "0.1111111111111111"
            ]
          },
          "execution_count": 7,
          "metadata": {},
          "output_type": "execute_result"
        }
      ],
      "source": [
        "def vectorize(sentence: str):\n",
        "    return Series(word_tokenize(sentence.lower())).value_counts()\n",
        "\n",
        "def cosine_similarity(vec_a: Series, vec_b: Series):\n",
        "    super_index = set(list(vec_a.index) + list(vec_b.index))\n",
        "    vec_a = vec_a.reindex(super_index).fillna(0)\n",
        "    vec_b = vec_b.reindex(super_index).fillna(0)\n",
        "    return np.dot(vec_a.sort_index(), vec_b.sort_index()) / (np.linalg.norm(vec_a) * np.linalg.norm(vec_b))\n",
        "\n",
        "\n",
        "cosine_similarity(\n",
        "    vectorize(\"\"\"\n",
        "(Team Breakfast Member)  Where did the flavor go? I used to eat these constantly in the 70's, and they had a sweet,\n",
        "fruity and spicy flavor. I just bought a box to relive old memories, and they were almost completely tasteless;\n",
        "like eating plain Cheerios without the oat flavor. No wonder Kellogg's is losing market share.\"\"\"),\n",
        "    vectorize(ip)\n",
        ")"
      ]
    },
    {
      "cell_type": "markdown",
      "metadata": {
        "id": "4tZ8DuGsTo1P"
      },
      "source": [
        "> The sample output for a review of using the `cosine_similarity` function is as shown above. For the final recommendations, both Spacy and Cosine similarity are included in a single function and user will have the flexibility to select the algorithm. <br>\n",
        "> **Full output in Section E*"
      ]
    },
    {
      "cell_type": "markdown",
      "metadata": {
        "id": "CfasUUiOTo1P"
      },
      "source": [
        "### Task D: Sentiment Analysis"
      ]
    },
    {
      "cell_type": "markdown",
      "metadata": {
        "id": "0WNUub4fTo1P"
      },
      "source": [
        "> Define sentiment analysis function for a given review `review_sentiment`, and a try a sample input"
      ]
    },
    {
      "cell_type": "code",
      "execution_count": null,
      "metadata": {
        "id": "Hfi9Avu2To1P",
        "outputId": "3e1f6351-d68b-4c67-d0bf-b11f05f22746"
      },
      "outputs": [
        {
          "data": {
            "text/plain": [
              "0.9765"
            ]
          },
          "execution_count": 8,
          "metadata": {},
          "output_type": "execute_result"
        }
      ],
      "source": [
        "senti_analyzer = SentimentIntensityAnalyzer()\n",
        "\n",
        "def review_sentiment(review: str):\n",
        "    score = senti_analyzer.polarity_scores(review)\n",
        "    return score[\"compound\"]\n",
        "\n",
        "review_sentiment(\"\"\"\n",
        "Does anyone have a copy of the commercial that introduced brown sugar frosting?\n",
        "It featured a speech choir for audio and simple line drawing animation in the form of wavy vertical lines and mouths.\n",
        "The text went something like this:\n",
        "A: Have you heard what's new? B: What's new? What's new?\n",
        "A: The brand new taste of Alpha-Bits. They're brown sugar frosted. B: Brown sugar frosted?\n",
        "A: Brown sugar makes these crispy letters, made from oats, golden. New golden Alpha-Bits are better than ever.B: Why are they better?\n",
        "A: 'cause brown sugar makes 'em that way. B: What way?\n",
        "A: Crisp, golden, and delicious. Now Alpha-Bits are more A-B-C-Delicious than ever. Than ever!\n",
        "    And new golden Alpha-Bits have energy, from A to Z. You'll like 'em better than cereals with white sugar on 'em.\n",
        "    Start your day a little bit better, A-B-C-Deliciously. Now you know what's new, don't you? B: Sure--Alpha-Bits.\n",
        "    They have a new golden color and a brand new taste.\n",
        "All: Now the only cereal with all the letters is the only cereal with brown sugar on 'em.\n",
        "    New golden Alpha-Bits are better than ever. Than ever!\"\"\")"
      ]
    },
    {
      "cell_type": "markdown",
      "metadata": {
        "id": "JZhwzfaETo1P"
      },
      "source": [
        "> The sample output of the `review_sentiment` is as shown above. The final calculations of the sentiments of each review can be found in the Section E."
      ]
    },
    {
      "cell_type": "markdown",
      "metadata": {
        "id": "2h8HOMUVTo1P"
      },
      "source": [
        "### Task F: Spacy word similarity\n",
        "\n",
        "**Task E has been generalized in the next section below*"
      ]
    },
    {
      "cell_type": "markdown",
      "metadata": {
        "id": "9-ZFCnX5To1Q"
      },
      "source": [
        "> Define a function to get spacy word similarity between the given attributes and the product review"
      ]
    },
    {
      "cell_type": "code",
      "execution_count": null,
      "metadata": {
        "id": "ZXjHd_cXTo1Q",
        "outputId": "f109d6a6-419e-408d-9e90-20bfea7c69f2"
      },
      "outputs": [
        {
          "data": {
            "text/plain": [
              "0.4047808879483893"
            ]
          },
          "execution_count": 9,
          "metadata": {},
          "output_type": "execute_result"
        }
      ],
      "source": [
        "def get_spacy_word_vector_similarity(text):\n",
        "    text = nlp(text)\n",
        "    return attributes.similarity(text)\n",
        "\n",
        "get_spacy_word_vector_similarity(\n",
        "    \"\"\"\n",
        "    (Team Breakfast Member)  Where did the flavor go? I used to eat these constantly in the 70's, and they had a sweet,\n",
        "    fruity and spicy flavor. I just bought a box to relive old memories, and they were almost completely tasteless;\n",
        "    like eating plain Cheerios without the oat flavor. No wonder Kellogg's is losing market share.\"\"\"\n",
        ")"
      ]
    },
    {
      "cell_type": "markdown",
      "metadata": {
        "id": "jNnMgk0HTo1Q"
      },
      "source": [
        "> The sample output for a review of the `get_spacy_word_vector_similarity` has been shown above, the usage of this similarity has been defined in the section E below."
      ]
    },
    {
      "cell_type": "markdown",
      "metadata": {
        "id": "bwJUTOutTo1Q"
      },
      "source": [
        "### Task E: Define a function to evaluate each cereal"
      ]
    },
    {
      "cell_type": "markdown",
      "metadata": {
        "id": "v1xiCEzfTo1Q"
      },
      "source": [
        "Given,\n",
        "* The type of analysis to be performed, i.e *bag of words* or *spacy word vector similarity*\n",
        "    - `bool`: `True` for *bag of words*,  `False` for *Spacy word vector similarity*\n",
        "* Include or exclude *Lemmatzation*\n",
        "    - `bool`: `True` to use the previously lemmatized comments, `False` to use the comments as is"
      ]
    },
    {
      "cell_type": "code",
      "execution_count": null,
      "metadata": {
        "id": "XVj3XbLITo1Q"
      },
      "outputs": [],
      "source": [
        "def getTopRecommendation(input_attributes: str, bag_of_words: bool, lemma: bool = False):\n",
        "    comment_col = \"comment_lemma\" if lemma else \"comment\"\n",
        "    comments_df[\"sentiment_score\"] = comments_df[comment_col].map(review_sentiment)\n",
        "    if bag_of_words:\n",
        "        comments_df[\"similarity_score\"] = comments_df[comment_col].map(lambda x: cosine_similarity(vectorize(x), vectorize(input_attributes)))\n",
        "    else:\n",
        "        comments_df[\"similarity_score\"] = comments_df[comment_col].map(get_spacy_word_vector_similarity)\n",
        "    comments_df[\"final_score\"] = comments_df[\"sentiment_score\"]*comments_df[\"similarity_score\"]\n",
        "\n",
        "    evaluation_df = comments_df.groupby(\"product_id\")[[\"final_score\", \"rating\", \"similarity_score\", \"sentiment_score\"]].mean()\n",
        "    evaluation_df = evaluation_df.reset_index() \\\n",
        "        .merge(read_csv(\"product_rating.csv\").rename(columns={\"rating\": \"rank\"}), on=\"product_id\", how=\"left\") \\\n",
        "        .rename(columns={\"rating\": \"avg_user_rating\", \"similarity_score\": \"avg_similarity_score\", \"sentiment_score\": \"avg_sentiment_score\"})\n",
        "    return evaluation_df"
      ]
    },
    {
      "cell_type": "markdown",
      "metadata": {
        "id": "jB8TWtJfTo1Q"
      },
      "source": [
        "### Recommendation"
      ]
    },
    {
      "cell_type": "markdown",
      "metadata": {
        "id": "ZoDOeX9vTo1Q"
      },
      "source": [
        "#### Recommending Cereal based on 'Bag of Words Cosine Similarity'"
      ]
    },
    {
      "cell_type": "code",
      "execution_count": null,
      "metadata": {
        "id": "muttoh0gTo1Q",
        "outputId": "673ef946-96be-4e7f-c616-6d477baa722d"
      },
      "outputs": [
        {
          "data": {
            "text/html": [
              "<div>\n",
              "<style scoped>\n",
              "    .dataframe tbody tr th:only-of-type {\n",
              "        vertical-align: middle;\n",
              "    }\n",
              "\n",
              "    .dataframe tbody tr th {\n",
              "        vertical-align: top;\n",
              "    }\n",
              "\n",
              "    .dataframe thead th {\n",
              "        text-align: right;\n",
              "    }\n",
              "</style>\n",
              "<table border=\"1\" class=\"dataframe\">\n",
              "  <thead>\n",
              "    <tr style=\"text-align: right;\">\n",
              "      <th></th>\n",
              "      <th>product_id</th>\n",
              "      <th>final_score</th>\n",
              "      <th>avg_user_rating</th>\n",
              "      <th>avg_similarity_score</th>\n",
              "      <th>avg_sentiment_score</th>\n",
              "      <th>rank</th>\n",
              "      <th>name</th>\n",
              "    </tr>\n",
              "  </thead>\n",
              "  <tbody>\n",
              "    <tr>\n",
              "      <th>176</th>\n",
              "      <td>1177</td>\n",
              "      <td>0.025805</td>\n",
              "      <td>4.541667</td>\n",
              "      <td>0.031459</td>\n",
              "      <td>0.650354</td>\n",
              "      <td>164</td>\n",
              "      <td>Sweet Crunch Cereal</td>\n",
              "    </tr>\n",
              "    <tr>\n",
              "      <th>28</th>\n",
              "      <td>102</td>\n",
              "      <td>0.018727</td>\n",
              "      <td>4.161290</td>\n",
              "      <td>0.022137</td>\n",
              "      <td>0.625200</td>\n",
              "      <td>105</td>\n",
              "      <td>Cracklin' Oat Bran Cereal</td>\n",
              "    </tr>\n",
              "    <tr>\n",
              "      <th>26</th>\n",
              "      <td>100</td>\n",
              "      <td>0.017443</td>\n",
              "      <td>3.850000</td>\n",
              "      <td>0.020411</td>\n",
              "      <td>0.541045</td>\n",
              "      <td>1579</td>\n",
              "      <td>Corny-Snaps Cereal</td>\n",
              "    </tr>\n",
              "  </tbody>\n",
              "</table>\n",
              "</div>"
            ],
            "text/plain": [
              "     product_id  final_score  avg_user_rating  avg_similarity_score  \\\n",
              "176        1177     0.025805         4.541667              0.031459   \n",
              "28          102     0.018727         4.161290              0.022137   \n",
              "26          100     0.017443         3.850000              0.020411   \n",
              "\n",
              "     avg_sentiment_score  rank                       name  \n",
              "176             0.650354   164        Sweet Crunch Cereal  \n",
              "28              0.625200   105  Cracklin' Oat Bran Cereal  \n",
              "26              0.541045  1579         Corny-Snaps Cereal  "
            ]
          },
          "execution_count": 21,
          "metadata": {},
          "output_type": "execute_result"
        }
      ],
      "source": [
        "bow_df = getTopRecommendation(ip, bag_of_words=True).sort_values(by=\"final_score\", ascending=False)\n",
        "bow_df[:3]"
      ]
    },
    {
      "cell_type": "markdown",
      "metadata": {
        "id": "39Ch7-F-To1Q"
      },
      "source": [
        "> ##### Insights for Task E\n",
        "> Logic for calculating the final score\n",
        "> $$final\\_score = Average(similarity\\_score_i*sentiment\\_score_i)$$\n",
        "> The 3 products we would recommend the user are thus shown in the above table"
      ]
    },
    {
      "cell_type": "markdown",
      "metadata": {
        "id": "U-PZuar4To1Q"
      },
      "source": [
        "#### Recommending Cereal based on 'SpaCy Word Vector Similarity'"
      ]
    },
    {
      "cell_type": "code",
      "execution_count": null,
      "metadata": {
        "id": "Ai6_jA_TTo1Q",
        "outputId": "13d53fdd-2367-4052-d15f-dcb832ee7ef8"
      },
      "outputs": [
        {
          "data": {
            "text/html": [
              "<div>\n",
              "<style scoped>\n",
              "    .dataframe tbody tr th:only-of-type {\n",
              "        vertical-align: middle;\n",
              "    }\n",
              "\n",
              "    .dataframe tbody tr th {\n",
              "        vertical-align: top;\n",
              "    }\n",
              "\n",
              "    .dataframe thead th {\n",
              "        text-align: right;\n",
              "    }\n",
              "</style>\n",
              "<table border=\"1\" class=\"dataframe\">\n",
              "  <thead>\n",
              "    <tr style=\"text-align: right;\">\n",
              "      <th></th>\n",
              "      <th>product_id</th>\n",
              "      <th>final_score</th>\n",
              "      <th>avg_user_rating</th>\n",
              "      <th>avg_similarity_score</th>\n",
              "      <th>avg_sentiment_score</th>\n",
              "      <th>rank</th>\n",
              "      <th>name</th>\n",
              "    </tr>\n",
              "  </thead>\n",
              "  <tbody>\n",
              "    <tr>\n",
              "      <th>66</th>\n",
              "      <td>231</td>\n",
              "      <td>0.277700</td>\n",
              "      <td>4.960000</td>\n",
              "      <td>0.365322</td>\n",
              "      <td>0.751420</td>\n",
              "      <td>148</td>\n",
              "      <td>Marshmallow Krispies Cereal</td>\n",
              "    </tr>\n",
              "    <tr>\n",
              "      <th>42</th>\n",
              "      <td>159</td>\n",
              "      <td>0.259409</td>\n",
              "      <td>4.952381</td>\n",
              "      <td>0.363137</td>\n",
              "      <td>0.733657</td>\n",
              "      <td>1606</td>\n",
              "      <td>Fruit Harvest: Strawberry Blueberry Cereal</td>\n",
              "    </tr>\n",
              "    <tr>\n",
              "      <th>133</th>\n",
              "      <td>450</td>\n",
              "      <td>0.253073</td>\n",
              "      <td>4.437299</td>\n",
              "      <td>0.353288</td>\n",
              "      <td>0.701134</td>\n",
              "      <td>1645</td>\n",
              "      <td>Wheat Hearts Cereal</td>\n",
              "    </tr>\n",
              "  </tbody>\n",
              "</table>\n",
              "</div>"
            ],
            "text/plain": [
              "     product_id  final_score  avg_user_rating  avg_similarity_score  \\\n",
              "66          231     0.277700         4.960000              0.365322   \n",
              "42          159     0.259409         4.952381              0.363137   \n",
              "133         450     0.253073         4.437299              0.353288   \n",
              "\n",
              "     avg_sentiment_score  rank                                        name  \n",
              "66              0.751420   148                 Marshmallow Krispies Cereal  \n",
              "42              0.733657  1606  Fruit Harvest: Strawberry Blueberry Cereal  \n",
              "133             0.701134  1645                         Wheat Hearts Cereal  "
            ]
          },
          "execution_count": 22,
          "metadata": {},
          "output_type": "execute_result"
        }
      ],
      "source": [
        "spacy_df = getTopRecommendation(ip, bag_of_words=False).sort_values(by=\"final_score\", ascending=False)\n",
        "spacy_df[:3]"
      ]
    },
    {
      "cell_type": "markdown",
      "metadata": {
        "id": "NDP0VZIxTo1Q"
      },
      "source": [
        "> ##### Insights for Task F\n",
        "> For task F, we have used a medium sized pretrained word vectors. <br>\n",
        "> The 3 cereals that we would recommend the user are as shown in the above table.\n",
        ">  \n",
        "> The cereals recommended in using spacy are all different from the ones recommended from BoW approach.\n",
        "> The average similarity scores of the recommended cereals is much higher for the spacy output when compared to BoW cosine similarity since we are taking context into account and not just exact matches. The increase in similarity has also affected the final scores, and hence the difference in recommendations. <br>\n",
        ">  \n",
        "> The average user rating also seems to be better for the cereals recommended using spacy. Average user rating is calculated by us, as the average of all the individual review scores."
      ]
    },
    {
      "cell_type": "code",
      "execution_count": null,
      "metadata": {
        "id": "SXmcJt2fTo1R"
      },
      "outputs": [],
      "source": [
        "def find_attribute_in_sentence(sentence, attributes):\n",
        "    for attr in attributes:\n",
        "        if attr in str(sentence).lower().split():\n",
        "            return True\n",
        "    return False"
      ]
    },
    {
      "cell_type": "code",
      "execution_count": null,
      "metadata": {
        "id": "SjFcimKITo1R",
        "outputId": "aa4873b5-92a4-4c0a-b992-18529659d446"
      },
      "outputs": [
        {
          "name": "stdout",
          "output_type": "stream",
          "text": [
            "For product Sweet Crunch Cereal:\n",
            "\tAttribute `crunchy` occurs in 0.00% of the reviews\n",
            "\tAttribute `fruity` occurs in 0.00% of the reviews\n",
            "\tAttribute `sweet` occurs in 29.17% of the reviews\n",
            "For product Cracklin' Oat Bran Cereal:\n",
            "\tAttribute `crunchy` occurs in 6.45% of the reviews\n",
            "\tAttribute `fruity` occurs in 0.00% of the reviews\n",
            "\tAttribute `sweet` occurs in 9.68% of the reviews\n",
            "For product Corny-Snaps Cereal:\n",
            "\tAttribute `crunchy` occurs in 15.00% of the reviews\n",
            "\tAttribute `fruity` occurs in 0.00% of the reviews\n",
            "\tAttribute `sweet` occurs in 5.00% of the reviews\n"
          ]
        }
      ],
      "source": [
        "# A deeper look into the BoW top-3 recommendation outputs\n",
        "for idx in bow_df[:3].index:\n",
        "    print(\"For product {name}:\".format(name=bow_df.loc[idx,\"name\"]))\n",
        "    for attr in ip.split():\n",
        "        count = 100 * comments_df[comments_df[\"product_id\"] == bow_df.loc[idx, \"product_id\"]][\"comment\"].map(lambda x: find_attribute_in_sentence(x, [attr])).sum() \\\n",
        "            / len(comments_df[comments_df[\"product_id\"] == bow_df.loc[idx, \"product_id\"]])\n",
        "        print(f\"\\tAttribute `{attr}` occurs in {count:.2f}% of the reviews\")"
      ]
    },
    {
      "cell_type": "code",
      "execution_count": null,
      "metadata": {
        "id": "ZpXJGidtTo1R",
        "outputId": "39cf259a-d524-48d1-bd91-d956da9b4935"
      },
      "outputs": [
        {
          "name": "stdout",
          "output_type": "stream",
          "text": [
            "For product Marshmallow Krispies Cereal:\n",
            "\tAttribute `crunchy` occurs in 0.00% of the reviews\n",
            "\tAttribute `fruity` occurs in 0.00% of the reviews\n",
            "\tAttribute `sweet` occurs in 12.00% of the reviews\n",
            "For product Fruit Harvest: Strawberry Blueberry Cereal:\n",
            "\tAttribute `crunchy` occurs in 0.00% of the reviews\n",
            "\tAttribute `fruity` occurs in 0.00% of the reviews\n",
            "\tAttribute `sweet` occurs in 0.00% of the reviews\n",
            "For product Wheat Hearts Cereal:\n",
            "\tAttribute `crunchy` occurs in 0.00% of the reviews\n",
            "\tAttribute `fruity` occurs in 0.00% of the reviews\n",
            "\tAttribute `sweet` occurs in 0.32% of the reviews\n"
          ]
        }
      ],
      "source": [
        "# A deeper look into the Spacy top-3 recommendation outputs\n",
        "for idx in spacy_df[:3].index:\n",
        "    print(\"For product {name}:\".format(name=spacy_df.loc[idx,\"name\"]))\n",
        "    for attr in ip.split():\n",
        "        count = 100 * comments_df[comments_df[\"product_id\"] == spacy_df.loc[idx, \"product_id\"]][\"comment\"].map(lambda x: find_attribute_in_sentence(x, [attr])).sum() \\\n",
        "            / len(comments_df[comments_df[\"product_id\"] == spacy_df.loc[idx, \"product_id\"]])\n",
        "        print(f\"\\tAttribute `{attr}` occurs in {count:.2f}% of the reviews\")"
      ]
    },
    {
      "cell_type": "markdown",
      "metadata": {
        "id": "bDlM1C02To1R"
      },
      "source": [
        "> From the top-3 recommendations of both BoW Cosine Similarity and Spacy (Word Vector) Similarity, we can see that, exact attribute matches are less for the latter method in comparison. But that is to be expected since in word vectors, we are adding the context, rather than relying on exact matches. These cereals would have never been recommended from the simple BoW Cosine Similarity. <br>\n",
        ">  \n",
        "> One review that stands out is *\"Fruit Harvest: Strawberry Blueberry Cereal\"* which has none of the user attributes mentioned. But we can clearly see that this is definitely a fruity cereal, just from the product name. Also the *\"Marshmallow Krispies Cereal\"* has sweet mentioned only in 12% of the reviews, but we can again intuitively predict that the cereal will be sweet since it's Marshmallow based."
      ]
    },
    {
      "cell_type": "markdown",
      "metadata": {
        "id": "AaMJfUt5To1R"
      },
      "source": [
        "### Task G: Top ranked products"
      ]
    },
    {
      "cell_type": "markdown",
      "metadata": {
        "id": "tdZesvRkTo1R"
      },
      "source": [
        "#### Difference between top ranked products vs BoW similarity results"
      ]
    },
    {
      "cell_type": "code",
      "execution_count": null,
      "metadata": {
        "id": "g_RpZyYHTo1R",
        "outputId": "0fd18cfb-b5e3-4e43-eb7c-21e3cc4b1928"
      },
      "outputs": [
        {
          "name": "stdout",
          "output_type": "stream",
          "text": [
            "Top Recommendations by BoW using Cosine Similarity\n"
          ]
        },
        {
          "data": {
            "text/html": [
              "<div>\n",
              "<style scoped>\n",
              "    .dataframe tbody tr th:only-of-type {\n",
              "        vertical-align: middle;\n",
              "    }\n",
              "\n",
              "    .dataframe tbody tr th {\n",
              "        vertical-align: top;\n",
              "    }\n",
              "\n",
              "    .dataframe thead th {\n",
              "        text-align: right;\n",
              "    }\n",
              "</style>\n",
              "<table border=\"1\" class=\"dataframe\">\n",
              "  <thead>\n",
              "    <tr style=\"text-align: right;\">\n",
              "      <th></th>\n",
              "      <th>product_id</th>\n",
              "      <th>final_score</th>\n",
              "      <th>avg_user_rating</th>\n",
              "      <th>avg_similarity_score</th>\n",
              "      <th>avg_sentiment_score</th>\n",
              "      <th>rank</th>\n",
              "      <th>name</th>\n",
              "    </tr>\n",
              "  </thead>\n",
              "  <tbody>\n",
              "    <tr>\n",
              "      <th>176</th>\n",
              "      <td>1177</td>\n",
              "      <td>0.025805</td>\n",
              "      <td>4.541667</td>\n",
              "      <td>0.031459</td>\n",
              "      <td>0.650354</td>\n",
              "      <td>164</td>\n",
              "      <td>Sweet Crunch Cereal</td>\n",
              "    </tr>\n",
              "    <tr>\n",
              "      <th>28</th>\n",
              "      <td>102</td>\n",
              "      <td>0.018727</td>\n",
              "      <td>4.161290</td>\n",
              "      <td>0.022137</td>\n",
              "      <td>0.625200</td>\n",
              "      <td>105</td>\n",
              "      <td>Cracklin' Oat Bran Cereal</td>\n",
              "    </tr>\n",
              "    <tr>\n",
              "      <th>26</th>\n",
              "      <td>100</td>\n",
              "      <td>0.017443</td>\n",
              "      <td>3.850000</td>\n",
              "      <td>0.020411</td>\n",
              "      <td>0.541045</td>\n",
              "      <td>1579</td>\n",
              "      <td>Corny-Snaps Cereal</td>\n",
              "    </tr>\n",
              "  </tbody>\n",
              "</table>\n",
              "</div>"
            ],
            "text/plain": [
              "     product_id  final_score  avg_user_rating  avg_similarity_score  \\\n",
              "176        1177     0.025805         4.541667              0.031459   \n",
              "28          102     0.018727         4.161290              0.022137   \n",
              "26          100     0.017443         3.850000              0.020411   \n",
              "\n",
              "     avg_sentiment_score  rank                       name  \n",
              "176             0.650354   164        Sweet Crunch Cereal  \n",
              "28              0.625200   105  Cracklin' Oat Bran Cereal  \n",
              "26              0.541045  1579         Corny-Snaps Cereal  "
            ]
          },
          "metadata": {},
          "output_type": "display_data"
        },
        {
          "name": "stdout",
          "output_type": "stream",
          "text": [
            "Top Recommendations by product ranking\n"
          ]
        },
        {
          "data": {
            "text/html": [
              "<div>\n",
              "<style scoped>\n",
              "    .dataframe tbody tr th:only-of-type {\n",
              "        vertical-align: middle;\n",
              "    }\n",
              "\n",
              "    .dataframe tbody tr th {\n",
              "        vertical-align: top;\n",
              "    }\n",
              "\n",
              "    .dataframe thead th {\n",
              "        text-align: right;\n",
              "    }\n",
              "</style>\n",
              "<table border=\"1\" class=\"dataframe\">\n",
              "  <thead>\n",
              "    <tr style=\"text-align: right;\">\n",
              "      <th></th>\n",
              "      <th>product_id</th>\n",
              "      <th>final_score</th>\n",
              "      <th>avg_user_rating</th>\n",
              "      <th>avg_similarity_score</th>\n",
              "      <th>avg_sentiment_score</th>\n",
              "      <th>rank</th>\n",
              "      <th>name</th>\n",
              "    </tr>\n",
              "  </thead>\n",
              "  <tbody>\n",
              "    <tr>\n",
              "      <th>92</th>\n",
              "      <td>300</td>\n",
              "      <td>0.000525</td>\n",
              "      <td>4.346939</td>\n",
              "      <td>0.000618</td>\n",
              "      <td>0.499678</td>\n",
              "      <td>1</td>\n",
              "      <td>Quisp Cereal</td>\n",
              "    </tr>\n",
              "    <tr>\n",
              "      <th>39</th>\n",
              "      <td>144</td>\n",
              "      <td>0.000000</td>\n",
              "      <td>3.515152</td>\n",
              "      <td>0.000000</td>\n",
              "      <td>0.402436</td>\n",
              "      <td>2</td>\n",
              "      <td>Frosted Flakes (Kellogg's) Cereal</td>\n",
              "    </tr>\n",
              "    <tr>\n",
              "      <th>172</th>\n",
              "      <td>1143</td>\n",
              "      <td>0.000262</td>\n",
              "      <td>4.717993</td>\n",
              "      <td>0.000485</td>\n",
              "      <td>0.637811</td>\n",
              "      <td>3</td>\n",
              "      <td>Concentrate Cereal</td>\n",
              "    </tr>\n",
              "  </tbody>\n",
              "</table>\n",
              "</div>"
            ],
            "text/plain": [
              "     product_id  final_score  avg_user_rating  avg_similarity_score  \\\n",
              "92          300     0.000525         4.346939              0.000618   \n",
              "39          144     0.000000         3.515152              0.000000   \n",
              "172        1143     0.000262         4.717993              0.000485   \n",
              "\n",
              "     avg_sentiment_score  rank                               name  \n",
              "92              0.499678     1                       Quisp Cereal  \n",
              "39              0.402436     2  Frosted Flakes (Kellogg's) Cereal  \n",
              "172             0.637811     3                 Concentrate Cereal  "
            ]
          },
          "metadata": {},
          "output_type": "display_data"
        }
      ],
      "source": [
        "print(\"Top Recommendations by BoW using Cosine Similarity\")\n",
        "display(bow_df.sort_values(by=\"final_score\", ascending=False)[:3])\n",
        "print(\"Top Recommendations by product ranking\")\n",
        "display(bow_df.sort_values(by=\"rank\", ascending=True)[:3])"
      ]
    },
    {
      "cell_type": "markdown",
      "metadata": {
        "id": "te-SV96kTo1R"
      },
      "source": [
        "> The average similarity score and sentiment score of the top ranked (`rank` column as ranked on the website) cereals are lower than the ones that we suggest using Cosine Similarity. So these top ranked cereals would not match the specific requirements mentioned by the user. <br>\n",
        ">  \n",
        "> *Note:* `rank` is how the website has ranked the cereals based on their own metrics. `avg_user_rating` is calculated by us, given by the average of all the reviews left on the cereal's page."
      ]
    },
    {
      "cell_type": "markdown",
      "metadata": {
        "id": "QjgbIhCYTo1R"
      },
      "source": [
        "#### Difference between top ranked products vs SpaCy similarity results"
      ]
    },
    {
      "cell_type": "code",
      "execution_count": null,
      "metadata": {
        "id": "xH7ms3gZTo1R",
        "outputId": "a0e0c126-49b5-4a8a-c9d7-50430cf6b677"
      },
      "outputs": [
        {
          "name": "stdout",
          "output_type": "stream",
          "text": [
            "Top Recommendations by Spacy Similarity\n"
          ]
        },
        {
          "data": {
            "text/html": [
              "<div>\n",
              "<style scoped>\n",
              "    .dataframe tbody tr th:only-of-type {\n",
              "        vertical-align: middle;\n",
              "    }\n",
              "\n",
              "    .dataframe tbody tr th {\n",
              "        vertical-align: top;\n",
              "    }\n",
              "\n",
              "    .dataframe thead th {\n",
              "        text-align: right;\n",
              "    }\n",
              "</style>\n",
              "<table border=\"1\" class=\"dataframe\">\n",
              "  <thead>\n",
              "    <tr style=\"text-align: right;\">\n",
              "      <th></th>\n",
              "      <th>product_id</th>\n",
              "      <th>final_score</th>\n",
              "      <th>avg_user_rating</th>\n",
              "      <th>avg_similarity_score</th>\n",
              "      <th>avg_sentiment_score</th>\n",
              "      <th>rank</th>\n",
              "      <th>name</th>\n",
              "    </tr>\n",
              "  </thead>\n",
              "  <tbody>\n",
              "    <tr>\n",
              "      <th>66</th>\n",
              "      <td>231</td>\n",
              "      <td>0.277700</td>\n",
              "      <td>4.960000</td>\n",
              "      <td>0.365322</td>\n",
              "      <td>0.751420</td>\n",
              "      <td>148</td>\n",
              "      <td>Marshmallow Krispies Cereal</td>\n",
              "    </tr>\n",
              "    <tr>\n",
              "      <th>42</th>\n",
              "      <td>159</td>\n",
              "      <td>0.259409</td>\n",
              "      <td>4.952381</td>\n",
              "      <td>0.363137</td>\n",
              "      <td>0.733657</td>\n",
              "      <td>1606</td>\n",
              "      <td>Fruit Harvest: Strawberry Blueberry Cereal</td>\n",
              "    </tr>\n",
              "    <tr>\n",
              "      <th>133</th>\n",
              "      <td>450</td>\n",
              "      <td>0.253073</td>\n",
              "      <td>4.437299</td>\n",
              "      <td>0.353288</td>\n",
              "      <td>0.701134</td>\n",
              "      <td>1645</td>\n",
              "      <td>Wheat Hearts Cereal</td>\n",
              "    </tr>\n",
              "  </tbody>\n",
              "</table>\n",
              "</div>"
            ],
            "text/plain": [
              "     product_id  final_score  avg_user_rating  avg_similarity_score  \\\n",
              "66          231     0.277700         4.960000              0.365322   \n",
              "42          159     0.259409         4.952381              0.363137   \n",
              "133         450     0.253073         4.437299              0.353288   \n",
              "\n",
              "     avg_sentiment_score  rank                                        name  \n",
              "66              0.751420   148                 Marshmallow Krispies Cereal  \n",
              "42              0.733657  1606  Fruit Harvest: Strawberry Blueberry Cereal  \n",
              "133             0.701134  1645                         Wheat Hearts Cereal  "
            ]
          },
          "metadata": {},
          "output_type": "display_data"
        },
        {
          "name": "stdout",
          "output_type": "stream",
          "text": [
            "Top Recommendations by product ranking\n"
          ]
        },
        {
          "data": {
            "text/html": [
              "<div>\n",
              "<style scoped>\n",
              "    .dataframe tbody tr th:only-of-type {\n",
              "        vertical-align: middle;\n",
              "    }\n",
              "\n",
              "    .dataframe tbody tr th {\n",
              "        vertical-align: top;\n",
              "    }\n",
              "\n",
              "    .dataframe thead th {\n",
              "        text-align: right;\n",
              "    }\n",
              "</style>\n",
              "<table border=\"1\" class=\"dataframe\">\n",
              "  <thead>\n",
              "    <tr style=\"text-align: right;\">\n",
              "      <th></th>\n",
              "      <th>product_id</th>\n",
              "      <th>final_score</th>\n",
              "      <th>avg_user_rating</th>\n",
              "      <th>avg_similarity_score</th>\n",
              "      <th>avg_sentiment_score</th>\n",
              "      <th>rank</th>\n",
              "      <th>name</th>\n",
              "    </tr>\n",
              "  </thead>\n",
              "  <tbody>\n",
              "    <tr>\n",
              "      <th>92</th>\n",
              "      <td>300</td>\n",
              "      <td>0.155791</td>\n",
              "      <td>4.346939</td>\n",
              "      <td>0.292304</td>\n",
              "      <td>0.499678</td>\n",
              "      <td>1</td>\n",
              "      <td>Quisp Cereal</td>\n",
              "    </tr>\n",
              "    <tr>\n",
              "      <th>39</th>\n",
              "      <td>144</td>\n",
              "      <td>0.131359</td>\n",
              "      <td>3.515152</td>\n",
              "      <td>0.275709</td>\n",
              "      <td>0.402436</td>\n",
              "      <td>2</td>\n",
              "      <td>Frosted Flakes (Kellogg's) Cereal</td>\n",
              "    </tr>\n",
              "    <tr>\n",
              "      <th>172</th>\n",
              "      <td>1143</td>\n",
              "      <td>0.224009</td>\n",
              "      <td>4.717993</td>\n",
              "      <td>0.343557</td>\n",
              "      <td>0.637811</td>\n",
              "      <td>3</td>\n",
              "      <td>Concentrate Cereal</td>\n",
              "    </tr>\n",
              "  </tbody>\n",
              "</table>\n",
              "</div>"
            ],
            "text/plain": [
              "     product_id  final_score  avg_user_rating  avg_similarity_score  \\\n",
              "92          300     0.155791         4.346939              0.292304   \n",
              "39          144     0.131359         3.515152              0.275709   \n",
              "172        1143     0.224009         4.717993              0.343557   \n",
              "\n",
              "     avg_sentiment_score  rank                               name  \n",
              "92              0.499678     1                       Quisp Cereal  \n",
              "39              0.402436     2  Frosted Flakes (Kellogg's) Cereal  \n",
              "172             0.637811     3                 Concentrate Cereal  "
            ]
          },
          "metadata": {},
          "output_type": "display_data"
        }
      ],
      "source": [
        "print(\"Top Recommendations by Spacy Similarity\")\n",
        "display(spacy_df.sort_values(by=\"final_score\", ascending=False)[:3])\n",
        "print(\"Top Recommendations by product ranking\")\n",
        "display(spacy_df.sort_values(by=\"rank\", ascending=True)[:3])"
      ]
    },
    {
      "cell_type": "markdown",
      "metadata": {
        "id": "VZFEJUTxTo1R"
      },
      "source": [
        "> The average similarity score and sentiment score of the top ranked cereals using word vector similarity gives us a more nuanced recommender system than simply relying on the cereal rankings."
      ]
    },
    {
      "cell_type": "markdown",
      "metadata": {
        "id": "XOPSlBo4To1R"
      },
      "source": [
        "### Task H: Lift Analysis"
      ]
    },
    {
      "cell_type": "markdown",
      "metadata": {
        "id": "NIisD1hiTo1S"
      },
      "source": [
        "> The most important features as we found from the `word_frequencies.csv` are shown in the dictionary keys, and the common substitute words used have also been mapped to the key from the reviews"
      ]
    },
    {
      "cell_type": "code",
      "execution_count": null,
      "metadata": {
        "id": "JRKPSJzATo1S"
      },
      "outputs": [],
      "source": [
        "top_attributes = {\n",
        "    \"taste\": [\"taste\", \"delicious\", \"tastes\", \"tasted\", \"tasty\"],\n",
        "    \"wheat\": [\"wheat\", \"wheats\"],\n",
        "    \"sugar\": [\"sugar\", \"sweet\", \"sugary\"],\n",
        "    \"rice\": [\"rice\"]\n",
        "}"
      ]
    },
    {
      "cell_type": "markdown",
      "metadata": {
        "id": "rl_yXeprTo1S"
      },
      "source": [
        "> Define the function for lift analysis"
      ]
    },
    {
      "cell_type": "code",
      "execution_count": null,
      "metadata": {
        "id": "AoBCagJSTo1S"
      },
      "outputs": [],
      "source": [
        "def getLift(product_id, attributes):\n",
        "    N = len(comments_df)\n",
        "    # Denominators - Adding a small number to the count to avoid zero denominator (if the case occurs)\n",
        "    count_product = (comments_df[\"product_id\"] == product_id).sum() + 10**(-6)\n",
        "    count_attribute = comments_df[\"comment\"].map(lambda x: find_attribute_in_sentence(x, attributes)).sum() + 10**(-6)\n",
        "    # Numerator\n",
        "    count_product_attribute = comments_df[comments_df[\"product_id\"] == product_id][\"comment\"].map(lambda x: find_attribute_in_sentence(x, attributes)).sum()\n",
        "    return N*count_product_attribute/(count_attribute*count_product)"
      ]
    },
    {
      "cell_type": "markdown",
      "metadata": {
        "id": "1BhOrmRUTo1S"
      },
      "source": [
        "> Picking out random 10 cereals and analyzing the closest 2 based on their association (lift scores) with the top 4 features."
      ]
    },
    {
      "cell_type": "code",
      "execution_count": null,
      "metadata": {
        "id": "3RK3G20PTo1S",
        "outputId": "a1f40027-c5ea-410a-9044-be6e550557f1"
      },
      "outputs": [
        {
          "name": "stdout",
          "output_type": "stream",
          "text": [
            "[140, 110, 139, 41, 141, 183, 48, 92, 89, 57]\n"
          ]
        }
      ],
      "source": [
        "# import random\n",
        "# randomlist = []\n",
        "# for i in range(0,10):\n",
        "#     n = random.randint(1,195)\n",
        "#     randomlist.append(n)\n",
        "# print(randomlist)\n",
        "\n",
        "# Random 10 cereals from our cereal list\n",
        "rand_cereals = [159, 98, 110, 79, 118, 147, 100, 71, 131, 97]"
      ]
    },
    {
      "cell_type": "code",
      "execution_count": null,
      "metadata": {
        "id": "P_bsxqs-To1S",
        "outputId": "15005953-7d75-478f-901a-da9f340a9dd2"
      },
      "outputs": [
        {
          "data": {
            "text/html": [
              "<div>\n",
              "<style scoped>\n",
              "    .dataframe tbody tr th:only-of-type {\n",
              "        vertical-align: middle;\n",
              "    }\n",
              "\n",
              "    .dataframe tbody tr th {\n",
              "        vertical-align: top;\n",
              "    }\n",
              "\n",
              "    .dataframe thead th {\n",
              "        text-align: right;\n",
              "    }\n",
              "</style>\n",
              "<table border=\"1\" class=\"dataframe\">\n",
              "  <thead>\n",
              "    <tr style=\"text-align: right;\">\n",
              "      <th></th>\n",
              "      <th>name</th>\n",
              "      <th>product_id</th>\n",
              "      <th>lift_taste</th>\n",
              "      <th>lift_wheat</th>\n",
              "      <th>lift_sugar</th>\n",
              "      <th>lift_rice</th>\n",
              "    </tr>\n",
              "  </thead>\n",
              "  <tbody>\n",
              "    <tr>\n",
              "      <th>9324</th>\n",
              "      <td>Oreo O's Cereal</td>\n",
              "      <td>270</td>\n",
              "      <td>0.641425</td>\n",
              "      <td>0.000000</td>\n",
              "      <td>0.178991</td>\n",
              "      <td>0.0</td>\n",
              "    </tr>\n",
              "    <tr>\n",
              "      <th>5928</th>\n",
              "      <td>Sweet Crunch Cereal</td>\n",
              "      <td>1177</td>\n",
              "      <td>0.000000</td>\n",
              "      <td>0.000000</td>\n",
              "      <td>7.830848</td>\n",
              "      <td>0.0</td>\n",
              "    </tr>\n",
              "    <tr>\n",
              "      <th>6669</th>\n",
              "      <td>Double Dip Crunch Cereal</td>\n",
              "      <td>129</td>\n",
              "      <td>0.464800</td>\n",
              "      <td>0.000000</td>\n",
              "      <td>1.167331</td>\n",
              "      <td>0.0</td>\n",
              "    </tr>\n",
              "    <tr>\n",
              "      <th>4956</th>\n",
              "      <td>S.W. Graham Cereal</td>\n",
              "      <td>367</td>\n",
              "      <td>0.745843</td>\n",
              "      <td>0.892566</td>\n",
              "      <td>0.624387</td>\n",
              "      <td>0.0</td>\n",
              "    </tr>\n",
              "    <tr>\n",
              "      <th>7534</th>\n",
              "      <td>Fruit Wheats Cereal</td>\n",
              "      <td>1328</td>\n",
              "      <td>0.000000</td>\n",
              "      <td>12.281704</td>\n",
              "      <td>0.000000</td>\n",
              "      <td>0.0</td>\n",
              "    </tr>\n",
              "    <tr>\n",
              "      <th>8840</th>\n",
              "      <td>Honey Graham Oh's Cereal</td>\n",
              "      <td>195</td>\n",
              "      <td>1.425388</td>\n",
              "      <td>0.000000</td>\n",
              "      <td>0.894954</td>\n",
              "      <td>0.0</td>\n",
              "    </tr>\n",
              "    <tr>\n",
              "      <th>6011</th>\n",
              "      <td>Team Cheerios Cereal</td>\n",
              "      <td>369</td>\n",
              "      <td>0.000000</td>\n",
              "      <td>0.000000</td>\n",
              "      <td>1.278506</td>\n",
              "      <td>0.0</td>\n",
              "    </tr>\n",
              "    <tr>\n",
              "      <th>4421</th>\n",
              "      <td>Raisin Nut Bran Cereal</td>\n",
              "      <td>305</td>\n",
              "      <td>0.534521</td>\n",
              "      <td>0.000000</td>\n",
              "      <td>0.000000</td>\n",
              "      <td>0.0</td>\n",
              "    </tr>\n",
              "    <tr>\n",
              "      <th>8064</th>\n",
              "      <td>Golden Grahams Cereal</td>\n",
              "      <td>168</td>\n",
              "      <td>2.915566</td>\n",
              "      <td>0.000000</td>\n",
              "      <td>2.440784</td>\n",
              "      <td>0.0</td>\n",
              "    </tr>\n",
              "    <tr>\n",
              "      <th>5874</th>\n",
              "      <td>Sun Flakes Cereal</td>\n",
              "      <td>364</td>\n",
              "      <td>0.395941</td>\n",
              "      <td>0.000000</td>\n",
              "      <td>1.988787</td>\n",
              "      <td>0.0</td>\n",
              "    </tr>\n",
              "  </tbody>\n",
              "</table>\n",
              "</div>"
            ],
            "text/plain": [
              "                          name  product_id  lift_taste  lift_wheat  \\\n",
              "9324           Oreo O's Cereal         270    0.641425    0.000000   \n",
              "5928       Sweet Crunch Cereal        1177    0.000000    0.000000   \n",
              "6669  Double Dip Crunch Cereal         129    0.464800    0.000000   \n",
              "4956        S.W. Graham Cereal         367    0.745843    0.892566   \n",
              "7534       Fruit Wheats Cereal        1328    0.000000   12.281704   \n",
              "8840  Honey Graham Oh's Cereal         195    1.425388    0.000000   \n",
              "6011      Team Cheerios Cereal         369    0.000000    0.000000   \n",
              "4421    Raisin Nut Bran Cereal         305    0.534521    0.000000   \n",
              "8064     Golden Grahams Cereal         168    2.915566    0.000000   \n",
              "5874         Sun Flakes Cereal         364    0.395941    0.000000   \n",
              "\n",
              "      lift_sugar  lift_rice  \n",
              "9324    0.178991        0.0  \n",
              "5928    7.830848        0.0  \n",
              "6669    1.167331        0.0  \n",
              "4956    0.624387        0.0  \n",
              "7534    0.000000        0.0  \n",
              "8840    0.894954        0.0  \n",
              "6011    1.278506        0.0  \n",
              "4421    0.000000        0.0  \n",
              "8064    2.440784        0.0  \n",
              "5874    1.988787        0.0  "
            ]
          },
          "execution_count": 87,
          "metadata": {},
          "output_type": "execute_result"
        }
      ],
      "source": [
        "product_desc = comments_df.merge(read_csv(\"product_rating.csv\").rename(columns={\"rating\": \"rank\"}), on=\"product_id\", how=\"left\")\n",
        "product_desc = product_desc[[\"name\", \"product_id\"]].drop_duplicates().iloc[rand_cereals]\n",
        "\n",
        "for attr in top_attributes:\n",
        "    product_desc[\"lift_\"+attr] = product_desc[\"product_id\"].map(lambda x: getLift(x, top_attributes[attr])).round(6)\n",
        "\n",
        "product_desc"
      ]
    },
    {
      "cell_type": "markdown",
      "metadata": {
        "id": "iw1tz3HQTo1S"
      },
      "source": [
        "> From the above table, we chose **\"Double Dip Crunch Cereal\"** and the closest match for that cereal in this list was **\"Sun Flakes Cereal\"** because the order of attributes when sorted based on the lift scores is same for both. Additionally, both of them show strong association with sugar and a similar level of association with taste as an attribute. Both of them also do not seem to be associated with wheat and rice."
      ]
    }
  ],
  "metadata": {
    "kernelspec": {
      "display_name": "Python 3.10.5 64-bit",
      "language": "python",
      "name": "python3"
    },
    "language_info": {
      "codemirror_mode": {
        "name": "ipython",
        "version": 3
      },
      "file_extension": ".py",
      "mimetype": "text/x-python",
      "name": "python",
      "nbconvert_exporter": "python",
      "pygments_lexer": "ipython3",
      "version": "3.10.5"
    },
    "orig_nbformat": 4,
    "vscode": {
      "interpreter": {
        "hash": "26de051ba29f2982a8de78e945f0abaf191376122a1563185a90213a26c5da77"
      }
    },
    "colab": {
      "provenance": []
    }
  },
  "nbformat": 4,
  "nbformat_minor": 0
}